{
 "cells": [
  {
   "cell_type": "code",
   "execution_count": 1,
   "metadata": {},
   "outputs": [],
   "source": [
    "import pandas as pd\n",
    "import numpy as np\n",
    "import matplotlib.pyplot as plt\n",
    "plt.rc('text', usetex=True)\n",
    "plt.rc('font', family='serif')\n",
    "\n",
    "plt.rcParams.update({'font.size':12})\n",
    "plt.rcParams.update({'legend.fontsize': 11})\n",
    "plt.rcParams.update({'text.usetex':'True'})"
   ]
  },
  {
   "cell_type": "markdown",
   "metadata": {},
   "source": [
    "scripts for calculate dihedral"
   ]
  },
  {
   "cell_type": "code",
   "execution_count": null,
   "metadata": {},
   "outputs": [],
   "source": [
    "base = r'PVDF_June15_2021/opt/test/'\n",
    "natoms = 72 \n",
    "df = pd.read_csv(base+'xmolout',skiprows=2,nrows=natoms,header=None,sep='\\s+',usecols=[0,1,2,3,4])\n",
    "df.columns = ['el','x','y','z','label']\n",
    "df.index+=1"
   ]
  },
  {
   "cell_type": "code",
   "execution_count": null,
   "metadata": {},
   "outputs": [],
   "source": [
    "vec_b1 = [df.loc[43].x-df.loc[42].x,df.loc[43].y-df.loc[42].y,df.loc[43].z-df.loc[42].z]\n",
    "vec_b2 = [df.loc[44].x-df.loc[43].x,df.loc[44].y-df.loc[43].y,df.loc[44].z-df.loc[43].z]\n",
    "vec_b3 = [df.loc[45].x-df.loc[44].x,df.loc[45].y-df.loc[44].y,df.loc[45].z-df.loc[44].z]\n",
    "\n",
    "n1=np.cross(vec_b1,vec_b2)/np.linalg.norm(np.cross(vec_b1,vec_b2))\n",
    "n2=np.cross(vec_b2,vec_b3)/np.linalg.norm(np.cross(vec_b2,vec_b3))\n",
    "\n",
    "x=np.dot(n1,n2)\n",
    "b2 = vec_b2/np.linalg.norm(vec_b2)\n",
    "m1 = np.cross(n1,b2)\n",
    "y=np.dot(m1,n2)\n",
    "np.degrees(np.arctan2(y,x))"
   ]
  },
  {
   "cell_type": "markdown",
   "metadata": {},
   "source": [
    "scripts for find the 4 backbone carbon"
   ]
  },
  {
   "cell_type": "code",
   "execution_count": null,
   "metadata": {},
   "outputs": [],
   "source": [
    "import re\n",
    "fort7path = base + 'fort.7'\n",
    "FORT7 = open(fort7path,'r')\n",
    "fort7=FORT7.readlines()\n",
    "FORT7.close()\n",
    "################\n",
    "arr_dihedral = []\n",
    "ini_index = 42\n",
    "arr_C4=[[0,1,2,3]]\n",
    "while len(arr_C4[0])==4:\n",
    "    C1 = df[df.index==ini_index]\n",
    "    arr_C4 = []\n",
    "    arr_C4.append(C1.values[0])\n",
    "    temp0=C1\n",
    "    while len(arr_C4) < 4:\n",
    "        temp1 = [int(i1) for i1 in re.findall('.....',fort7[temp0.index[0]])[2:7]]\n",
    "        temp2 = np.trim_zeros(temp1)\n",
    "        CatomswithC1 = list(df.loc[temp2]['el'].values=='C')\n",
    "        temp3 = df.loc[temp2][CatomswithC1]\n",
    "        C2=temp3.iloc[temp3.index>temp0.index[0]]\n",
    "        if len(C2)==0:\n",
    "            break\n",
    "        else:\n",
    "            arr_C4.append(C2.values[0])\n",
    "            temp0=C2\n",
    "    if len(arr_C4)==4:\n",
    "        arr_dihedral.append(arr_C4)\n",
    "        ini_index+=1\n",
    "    else:\n",
    "        break"
   ]
  },
  {
   "cell_type": "markdown",
   "metadata": {},
   "source": [
    "Find the chain label"
   ]
  },
  {
   "cell_type": "code",
   "execution_count": null,
   "metadata": {},
   "outputs": [],
   "source": [
    "for j0 in range(1,max(df.label.values)+1):\n",
    "    _tmp00 = df[df.label==j0]\n",
    "    _tmp01 = _tmp00[_tmp00['el']=='C']"
   ]
  },
  {
   "cell_type": "code",
   "execution_count": null,
   "metadata": {},
   "outputs": [],
   "source": [
    "_tmp01[_tmp01.z==min(_tmp01.z)].index.tolist()[0]"
   ]
  },
  {
   "cell_type": "markdown",
   "metadata": {},
   "source": [
    "# Combine scripts original frame"
   ]
  },
  {
   "cell_type": "markdown",
   "metadata": {},
   "source": [
    "set the dihedral list"
   ]
  },
  {
   "cell_type": "code",
   "execution_count": 35,
   "metadata": {},
   "outputs": [],
   "source": [
    "base = r'/home/gywjedi/ExternalHDD/PVDF/singlechain/al2o3_btermi_adjacent_HO/lmps_10K_01/';natoms= 3146;\n",
    "df = pd.read_csv(base+'npt_10K/xmolout',skiprows=2,nrows=natoms,header=None,sep='\\s+',usecols=[0,1,2,3,4])\n",
    "df.columns = ['el','x','y','z','label']\n",
    "df.index+=1\n",
    "################\n",
    "backbone_dihedral_list = []\n",
    "for j0 in range(1,max(df.label.values)+1):\n",
    "    tmp00=df.query('el==\"C\" and label==%(var_0)f'%dict(var_0=j0))\n",
    "    tmp_sortbyz=tmp00.sort_values(by='z', ascending=True)\n",
    "    C4_index = [[tmp_sortbyz.index.tolist()[i0],tmp_sortbyz.index.tolist()[i0+1],tmp_sortbyz.index.tolist()[i0+2],tmp_sortbyz.index.tolist()[i0+3]] for i0 in range(len(tmp_sortbyz)-3)]\n",
    "    backbone_dihedral_list.extend(C4_index)"
   ]
  },
  {
   "cell_type": "markdown",
   "metadata": {},
   "source": [
    "check dihedral angle"
   ]
  },
  {
   "cell_type": "code",
   "execution_count": 36,
   "metadata": {},
   "outputs": [],
   "source": [
    "subbase = 'lmps_10K/'\n",
    "DF = pd.read_csv(base+'fort.51',skiprows=2,nrows=natoms,header=None,sep='\\s+',usecols=[0,1,2,3,4])\n",
    "DF.columns = ['el','x','y','z','label']\n",
    "DF.index+=1\n",
    "trans_index = []\n",
    "gauche_index = []\n",
    "other_index = []\n",
    "arr_dihedral = []\n",
    "for i1 in backbone_dihedral_list:\n",
    "    ci1 = DF.loc[i1][['x','y','z']]\n",
    "    vec_b1 = np.array(ci1.iloc[1])-np.array(ci1.iloc[0])\n",
    "    vec_b2 = np.array(ci1.iloc[2])-np.array(ci1.iloc[1])\n",
    "    vec_b3 = np.array(ci1.iloc[3])-np.array(ci1.iloc[2])\n",
    "    n1=np.cross(vec_b1,vec_b2)/np.linalg.norm(np.cross(vec_b1,vec_b2))\n",
    "    n2=np.cross(vec_b2,vec_b3)/np.linalg.norm(np.cross(vec_b2,vec_b3))\n",
    "    x=np.dot(n1,n2)\n",
    "    b2 = vec_b2/np.linalg.norm(vec_b2)\n",
    "    m1 = np.cross(n1,b2)\n",
    "    y=np.dot(m1,n2)\n",
    "    dihedral = np.degrees(np.arctan2(y,x))\n",
    "    arr_dihedral.append(dihedral)\n",
    "    if abs(dihedral)>150:\n",
    "        trans_index=trans_index+i1\n",
    "    elif abs(dihedral)> 30 and abs(dihedral)<90:\n",
    "        gauche_index=gauche_index+i1\n",
    "    else:\n",
    "        other_index=other_index+i1"
   ]
  },
  {
   "cell_type": "code",
   "execution_count": 43,
   "metadata": {},
   "outputs": [
    {
     "data": {
      "image/png": "[encoded data removed]",
      "text/plain": [
       "<Figure size 345.6x230.4 with 1 Axes>"
      ]
     },
     "metadata": {
      "needs_background": "light"
     },
     "output_type": "display_data"
    }
   ],
   "source": [
    "#arr_dihedral00 = arr_dihedral\n",
    "plt.figure(figsize=[4.8,3.2])\n",
    "plt.hist(np.abs(arr_dihedral00),bins=np.linspace(0,180,7),edgecolor='k',alpha=0.5,label='w.o $\\mathrm{Al_2O_3}$')\n",
    "plt.hist(np.abs(arr_dihedral),bins=np.linspace(0,180,7),edgecolor='k',alpha=0.5,label='w. $\\mathrm{Al_2O_3}$')\n",
    "plt.xlim([0,180])\n",
    "plt.xticks(np.linspace(0,180,7))\n",
    "plt.ylabel(\"Counts [-]\",fontsize=13)\n",
    "plt.xlabel(\"Dihedral angle [$\\mathrm{^\\circ}$]\",fontsize=13)\n",
    "plt.legend(frameon=False)\n",
    "plt.title(r'$\\mathrm{\\beta-PVDF}$',fontsize=12)\n",
    "plt.tight_layout()\n",
    "#plt.annotate('mid. chain', xy=(130, 1), xytext=(100, 5),arrowprops=dict(arrowstyle=\"->\"))\n",
    "plt.savefig(base + 'stab.pdf')\n",
    "plt.savefig(base + 'stab.svg')"
   ]
  },
  {
   "cell_type": "code",
   "execution_count": 31,
   "metadata": {},
   "outputs": [
    {
     "data": {
      "text/plain": [
       "array([False, False,  True, False, False, False,  True, False, False,\n",
       "       False,  True, False, False, False,  True, False, False, False,\n",
       "        True, False, False,  True, False, False, False,  True, False,\n",
       "       False, False,  True, False, False,  True, False, False,  True,\n",
       "       False, False,  True, False, False,  True, False, False, False])"
      ]
     },
     "execution_count": 31,
     "metadata": {},
     "output_type": "execute_result"
    }
   ],
   "source": [
    "np.abs(arr_dihedral)>150"
   ]
  },
  {
   "cell_type": "raw",
   "metadata": {},
   "source": [
    "arr_dihedral = []\n",
    "trans_index = []\n",
    "gauche_index = []\n",
    "    _tmp00 = df[df.label==j0]\n",
    "    _tmp01 = _tmp00[_tmp00['el']=='C']\n",
    "    if len(_tmp01)==0:\n",
    "        continue\n",
    "    else:\n",
    "        ini_index = _tmp01[_tmp01.z==min(_tmp01.z)].index.tolist()[0]\n",
    "    arr_C4=[0,1,2,3]\n",
    "    while len(arr_C4)==4:\n",
    "        C1 = df[df.index==ini_index]\n",
    "        arr_C4 = []\n",
    "        arr_C4index = []\n",
    "        arr_C4index.append(ini_index)\n",
    "        arr_C4.append(C1.values[0])\n",
    "        temp0=C1\n",
    "        while len(arr_C4) < 4:\n",
    "            temp1 = [int(i1) for i1 in re.findall('.....',fort7[temp0.index[0]])[2:22]]\n",
    "            temp2 = np.trim_zeros(temp1)\n",
    "            CatomswithC1 = list(df.loc[temp2]['el'].values=='C')\n",
    "            temp3 = df.loc[temp2][CatomswithC1]\n",
    "            temp4 = temp3[temp3.z>temp0.z.tolist()[0]]\n",
    "            if len(temp4)==0:\n",
    "                break\n",
    "            else:\n",
    "                C2 = temp4[temp4.z==min(temp4.z)]\n",
    "                arr_C4.append(C2.values.tolist()[0])\n",
    "                arr_C4index.append(C2.index.tolist()[0])\n",
    "                temp0=C2\n",
    "        if len(arr_C4)==4:\n",
    "            vec_b1 = [arr_C4[1][1]-arr_C4[0][1],arr_C4[1][2]-arr_C4[0][2],arr_C4[1][3]-arr_C4[0][3]]\n",
    "            vec_b2 = [arr_C4[2][1]-arr_C4[1][1],arr_C4[2][2]-arr_C4[1][2],arr_C4[2][3]-arr_C4[1][3]]\n",
    "            vec_b3 = [arr_C4[3][1]-arr_C4[2][1],arr_C4[3][2]-arr_C4[2][2],arr_C4[3][3]-arr_C4[2][3]]\n",
    "            n1=np.cross(vec_b1,vec_b2)/np.linalg.norm(np.cross(vec_b1,vec_b2))\n",
    "            n2=np.cross(vec_b2,vec_b3)/np.linalg.norm(np.cross(vec_b2,vec_b3))\n",
    "            x=np.dot(n1,n2)\n",
    "            b2 = vec_b2/np.linalg.norm(vec_b2)\n",
    "            m1 = np.cross(n1,b2)\n",
    "            y=np.dot(m1,n2)\n",
    "            dihedral = np.degrees(np.arctan2(y,x))\n",
    "            arr_dihedral.append(dihedral)\n",
    "            ini_index = arr_C4index[1]\n",
    "            if abs(dihedral)>150:\n",
    "                trans_index=trans_index+arr_C4index\n",
    "            elif abs(dihedral)> 30 and abs(dihedral)<90:\n",
    "                gauche_index=gauche_index+arr_C4index\n",
    "        else:\n",
    "            break\n",
    "            "
   ]
  },
  {
   "cell_type": "code",
   "execution_count": null,
   "metadata": {},
   "outputs": [],
   "source": [
    "from toolz.itertoolz import unique\n",
    "TransList = list(unique(trans_index))\n",
    "GaucheList = list(unique(gauche_index))\n",
    "dftrans=df.loc[TransList]\n",
    "dftrans.to_csv(base+subbase+'trans.xyz',header=None,index=None,sep=\" \")\n",
    "dfgauche=df.loc[GaucheList]\n",
    "dfgauche.to_csv(base+subbase+'gauche.xyz',header=None,index=None,sep=\" \")"
   ]
  },
  {
   "cell_type": "markdown",
   "metadata": {},
   "source": [
    "# Combine scripts Multiple Snapshots"
   ]
  },
  {
   "cell_type": "code",
   "execution_count": 6,
   "metadata": {},
   "outputs": [],
   "source": [
    "base = '/media/gywjedi/gywjedi/PVDF/beta/FF_20210715/Termi_adf_times_noAl/'\n",
    "natoms = 29120\n",
    "df = pd.read_csv(base+'0000/xm0',skiprows=2,nrows=natoms,header=None,sep='\\s+',usecols=[0,1,2,3,4])\n",
    "df.columns = ['el','x','y','z','label']\n",
    "df.index+=1\n",
    "################\n",
    "backbone_dihedral_list = []\n",
    "for j0 in range(1,max(df.label.values)+1):\n",
    "    tmp00=df.query('el==\"C\" and label==%(var_0)f'%dict(var_0=j0))\n",
    "    tmp_sortbyz=tmp00.sort_values(by='z', ascending=True)\n",
    "    C4_index = [[tmp_sortbyz.index.tolist()[i0],tmp_sortbyz.index.tolist()[i0+1],tmp_sortbyz.index.tolist()[i0+2],tmp_sortbyz.index.tolist()[i0+3]] for i0 in range(len(tmp_sortbyz)-3)]\n",
    "    backbone_dihedral_list.extend(C4_index)"
   ]
  },
  {
   "cell_type": "code",
   "execution_count": 5,
   "metadata": {},
   "outputs": [],
   "source": [
    "from toolz.itertoolz import unique\n",
    "n_frames = 200;\n",
    "for frames in range(1,n_frames+1):\n",
    "    DF = pd.read_csv(base+'fort.51',skiprows=2+(2+natoms)*frames,nrows=natoms,\n",
    "                     header=None,sep='\\s+',usecols=[0,1,2,3,4])\n",
    "    DF.columns = ['el','x','y','z','label']\n",
    "    DF.index+=1\n",
    "    trans_index = []\n",
    "    gauche_index = []\n",
    "    arr_dihedral = []\n",
    "    for i1 in backbone_dihedral_list:\n",
    "        ci1 = DF.loc[i1][['x','y','z']]\n",
    "        vec_b1 = np.array(ci1.iloc[1])-np.array(ci1.iloc[0])\n",
    "        vec_b2 = np.array(ci1.iloc[2])-np.array(ci1.iloc[1])\n",
    "        vec_b3 = np.array(ci1.iloc[3])-np.array(ci1.iloc[2])\n",
    "        n1=np.cross(vec_b1,vec_b2)/np.linalg.norm(np.cross(vec_b1,vec_b2))\n",
    "        n2=np.cross(vec_b2,vec_b3)/np.linalg.norm(np.cross(vec_b2,vec_b3))\n",
    "        x=np.dot(n1,n2)\n",
    "        b2 = vec_b2/np.linalg.norm(vec_b2)\n",
    "        m1 = np.cross(n1,b2)\n",
    "        y=np.dot(m1,n2)\n",
    "        dihedral = np.degrees(np.arctan2(y,x))\n",
    "        arr_dihedral.append(dihedral)\n",
    "        if abs(dihedral)>150:\n",
    "            trans_index=trans_index+i1\n",
    "        elif abs(dihedral)> 30 and abs(dihedral)<90:\n",
    "            gauche_index=gauche_index+i1\n",
    "            \n",
    "    TransList = list(unique(trans_index))\n",
    "    GaucheList = list(unique(gauche_index))\n",
    "    trans_list = [t.tolist() for t in df.loc[TransList].values]\n",
    "    with open(base+str(n_frames)+\"trans.xyz\", \"a\") as trans:\n",
    "        trans.write(str(len(TransList))+'\\n')\n",
    "        trans.write('\\n')\n",
    "    dftrans=DF.loc[TransList]\n",
    "    dftrans.to_csv(base+str(n_frames)+'trans.xyz',header=None,index=None,sep=\" \",mode='a')\n",
    "    with open(base+str(n_frames)+\"gauche.xyz\", \"a\") as gauche:\n",
    "        gauche.write(str(len(GaucheList))+'\\n')\n",
    "        gauche.write('\\n')\n",
    "    dfgauche=DF.loc[GaucheList]\n",
    "    dfgauche.to_csv(base+str(n_frames)+'gauche.xyz',header=None,index=None,sep=\" \",mode='a')"
   ]
  },
  {
   "cell_type": "raw",
   "metadata": {},
   "source": [
    "base = r'/home/gywjedi/ExternalHDD/PVDF/beta/FF_20210715/Termi_adf_npt_times_noAl/';natoms= 29120\n",
    "subbase = '/'\n",
    "from toolz.itertoolz import unique\n",
    "\n",
    "################\n",
    "fort7path = base + subbase+ 'fort.7'\n",
    "FORT7 = open(fort7path,'r')\n",
    "fort7=FORT7.readlines()\n",
    "FORT7.close()\n",
    "import csv  \n",
    "import re\n",
    "for I in range(1,108):\n",
    "    df = pd.read_csv(base+subbase+'fort.51',skiprows=2+(natoms+2)*I,\n",
    "                     nrows=natoms,header=None,sep='\\s+',usecols=[0,1,2,3,4])\n",
    "    df.columns = ['el','x','y','z','label']\n",
    "    df.index+=1\n",
    "    arr_dihedral = []\n",
    "    trans_index = []\n",
    "    gauche_index = []\n",
    "    for j0 in range(1,max(df.label.values)+1):\n",
    "        _tmp00 = df[df.label==j0]\n",
    "        _tmp01 = _tmp00[_tmp00['el']=='C']\n",
    "        if len(_tmp01)==0:\n",
    "            continue\n",
    "        else:\n",
    "            ini_index = _tmp01[_tmp01.z==min(_tmp01.z)].index.tolist()[0]\n",
    "        arr_C4=[0,1,2,3]\n",
    "        while len(arr_C4)==4:\n",
    "            C1 = df[df.index==ini_index]\n",
    "            arr_C4 = []\n",
    "            arr_C4index = []\n",
    "            arr_C4index.append(ini_index)\n",
    "            arr_C4.append(C1.values[0])\n",
    "            temp0=C1\n",
    "            while len(arr_C4) < 4:\n",
    "                temp1 = [int(i1) for i1 in re.findall('.....',fort7[temp0.index[0]])[2:20]]\n",
    "                temp2 = np.trim_zeros(temp1)\n",
    "                CatomswithC1 = list(df.loc[temp2]['el'].values=='C')\n",
    "                temp3 = df.loc[temp2][CatomswithC1]\n",
    "                temp4 = temp3[temp3.z>temp0.z.tolist()[0]]\n",
    "                if len(temp4)==0:\n",
    "                    break\n",
    "                else:\n",
    "                    C2 = temp4[temp4.z==min(temp4.z)]\n",
    "                    arr_C4.append(C2.values.tolist()[0])\n",
    "                    arr_C4index.append(C2.index.tolist()[0])\n",
    "                    temp0=C2\n",
    "            if len(arr_C4)==4:\n",
    "                vec_b1 = [arr_C4[1][1]-arr_C4[0][1],arr_C4[1][2]-arr_C4[0][2],arr_C4[1][3]-arr_C4[0][3]]\n",
    "                vec_b2 = [arr_C4[2][1]-arr_C4[1][1],arr_C4[2][2]-arr_C4[1][2],arr_C4[2][3]-arr_C4[1][3]]\n",
    "                vec_b3 = [arr_C4[3][1]-arr_C4[2][1],arr_C4[3][2]-arr_C4[2][2],arr_C4[3][3]-arr_C4[2][3]]\n",
    "                n1=np.cross(vec_b1,vec_b2)/np.linalg.norm(np.cross(vec_b1,vec_b2))\n",
    "                n2=np.cross(vec_b2,vec_b3)/np.linalg.norm(np.cross(vec_b2,vec_b3))\n",
    "                x=np.dot(n1,n2)\n",
    "                b2 = vec_b2/np.linalg.norm(vec_b2)\n",
    "                m1 = np.cross(n1,b2)\n",
    "                y=np.dot(m1,n2)\n",
    "                dihedral = np.degrees(np.arctan2(y,x))\n",
    "                arr_dihedral.append(dihedral)\n",
    "                ini_index = arr_C4index[1]\n",
    "                if abs(dihedral)>150:\n",
    "                    trans_index=trans_index+arr_C4index\n",
    "                elif abs(dihedral)> 30 and abs(dihedral)<90:\n",
    "                    gauche_index=gauche_index+arr_C4index\n",
    "                else:\n",
    "                    pass\n",
    "            else:\n",
    "                break\n",
    "            \n",
    "\n",
    "    TransList = list(unique(trans_index))\n",
    "    GaucheList = list(unique(gauche_index))\n",
    "    trans_list = [t.tolist() for t in df.loc[TransList].values]\n",
    "    with open(base+subbase+\"trans.xyz\", \"a\") as trans:\n",
    "        trans.write(str(len(TransList))+'\\n')\n",
    "        trans.write('\\n')\n",
    "    dftrans=df.loc[TransList]\n",
    "    dftrans.to_csv(base+subbase+'trans.xyz',header=None,index=None,sep=\" \",mode='a')\n",
    "    with open(base+subbase+\"gauche.xyz\", \"a\") as gauche:\n",
    "        gauche.write(str(len(GaucheList))+'\\n')\n",
    "        gauche.write('\\n')\n",
    "    dfgauche=df.loc[GaucheList]\n",
    "    dfgauche.to_csv(base+subbase+'gauche.xyz',header=None,index=None,sep=\" \",mode='a')"
   ]
  },
  {
   "cell_type": "code",
   "execution_count": null,
   "metadata": {},
   "outputs": [],
   "source": [
    "from scipy.optimize import curve_fit\n",
    "\n",
    "def func(x,a,b):\n",
    "    return a*np.log(x)+ b"
   ]
  },
  {
   "cell_type": "code",
   "execution_count": 22,
   "metadata": {},
   "outputs": [
    {
     "data": {
      "image/png": "[encoded data removed]",
      "text/plain": [
       "<Figure size 288x216 with 1 Axes>"
      ]
     },
     "metadata": {
      "needs_background": "light"
     },
     "output_type": "display_data"
    }
   ],
   "source": [
    "n_frames=200\n",
    "base = r'/home/gywjedi/ExternalHDD/PVDF/beta/FF_20210715/Termi_adf_times_noAl'\n",
    "num_trans = np.loadtxt(base+'/200trans.dat')\n",
    "plt.figure(figsize=[4,3])\n",
    "plt.plot(range(1,n_frames),num_trans,lw=2,label='nvt',color='lime')\n",
    "num_trans_npt = np.loadtxt(base+'/npt/200trans.dat')\n",
    "plt.plot(range(1,n_frames),num_trans_npt,label='npt',color='blue')\n",
    "plt.xlim([0,200])\n",
    "plt.xlabel('Time [ps]')\n",
    "plt.ylabel('\\# of trans units')\n",
    "#popt, pcov = curve_fit(func, np.arange(1,n_frames), num_gauche)\n",
    "#plt.plot(np.arange(1,n_frames), func(np.arange(1,n_frames), *popt), label=\"log fit\",lw=2,c='r')\n",
    "plt.legend(loc='center right',frameon=False,fontsize=13)\n",
    "plt.tight_layout()\n",
    "plt.savefig(base+'/200ps_evo.svg')"
   ]
  },
  {
   "cell_type": "code",
   "execution_count": null,
   "metadata": {},
   "outputs": [],
   "source": [
    "base = r'/home/gywjedi/ExternalHDD/PVDF/singlechain/al2o3_atermi_adjacent_HO/lmps_10K_01'\n",
    "_ = pd.read_csv(base+'/out',skiprows=1307,nrows=800,sep=\"\\s+\")\n",
    "plt.plot(_.Step,_.PotEng,lw=2)\n",
    "plt.show()"
   ]
  },
  {
   "cell_type": "code",
   "execution_count": null,
   "metadata": {},
   "outputs": [],
   "source": [
    "np.mean(_.PotEng)"
   ]
  },
  {
   "cell_type": "markdown",
   "metadata": {},
   "source": [
    "# Torsion Restraint"
   ]
  },
  {
   "cell_type": "code",
   "execution_count": null,
   "metadata": {},
   "outputs": [],
   "source": [
    "base = r'/home/gywjedi/ExternalHDD/PVDF/singlechain/al2o3_btermi_adjacent_HO/';natoms= 292;\n",
    "df = pd.read_csv(base+'test/xmolout',skiprows=2,nrows=natoms,header=None,sep='\\s+',usecols=[0,1,2,3,4])\n",
    "df.columns = ['el','x','y','z','label']\n",
    "df.index+=1\n",
    "################\n",
    "backbone_dihedral_list = []\n",
    "for j0 in range(1,int(max(df.label.values)+1)):\n",
    "    tmp00=df.query('el==\"C\" and label==%(var_0)f'%dict(var_0=j0))\n",
    "    tmp_sortbyz=tmp00.sort_values(by='z', ascending=True)\n",
    "    C4_index = [[tmp_sortbyz.index.tolist()[i0],tmp_sortbyz.index.tolist()[i0+1],tmp_sortbyz.index.tolist()[i0+2],tmp_sortbyz.index.tolist()[i0+3]] for i0 in range(len(tmp_sortbyz)-3)]\n",
    "    backbone_dihedral_list.extend(C4_index)\n",
    "import csv\n",
    "file = open(base+'test/TorsionRestraint.dat',\"w\")\n",
    "writer=csv.writer(file,delimiter=\" \")\n",
    "for i1 in backbone_dihedral_list:\n",
    "    ci1 = df.loc[i1][['x','y','z']]\n",
    "    vec_b1 = np.array(ci1.iloc[1])-np.array(ci1.iloc[0])\n",
    "    vec_b2 = np.array(ci1.iloc[2])-np.array(ci1.iloc[1])\n",
    "    vec_b3 = np.array(ci1.iloc[3])-np.array(ci1.iloc[2])\n",
    "    n1=np.cross(vec_b1,vec_b2)/np.linalg.norm(np.cross(vec_b1,vec_b2))\n",
    "    n2=np.cross(vec_b2,vec_b3)/np.linalg.norm(np.cross(vec_b2,vec_b3))\n",
    "    x=np.dot(n1,n2)\n",
    "    b2 = vec_b2/np.linalg.norm(vec_b2)\n",
    "    m1 = np.cross(n1,b2)\n",
    "    y=np.dot(m1,n2)\n",
    "    dihedral = np.degrees(np.arctan2(y,x))\n",
    "    _ = ['TORSION','RESTRAINT']+i1+[dihedral,250.00,1.0000,0.0000]\n",
    "    writer.writerow(_)\n",
    "file.close()"
   ]
  },
  {
   "cell_type": "markdown",
   "metadata": {},
   "source": [
    "# Random pick H atoms"
   ]
  },
  {
   "cell_type": "code",
   "execution_count": 4,
   "metadata": {},
   "outputs": [],
   "source": [
    "import random\n",
    "base = r\"/media/gywjedi/gywjedi/PVDF/beta/strain/0TriF/emin\"\n",
    "df = pd.read_csv(base+\"/xmolout\",skiprows=2,header=None,usecols=[0,1,2,3,4],sep=\"\\s+\")\n",
    "df.index+=1\n",
    "df.columns=['el','x','y','z','tag']\n",
    "df_C=df.query(\"el=='C'\")\n",
    "C_list = df_C.index.tolist()\n",
    "\n",
    "fort7path = base + '/fort.7'\n",
    "FORT7 = open(fort7path,'r')\n",
    "fort7=FORT7.readlines()\n",
    "FORT7.close()\n",
    "#Ch_dict={\"Ch\":[],\"H\":[]};\n",
    "num_tag = 32;\n",
    "\n",
    "for _ in range(1,num_tag+1):\n",
    "    Ch_dict={\"Ch\":[],\"H\":[]};\n",
    "    for C_index in C_list:\n",
    "        if df.loc[C_index,'tag'] == _:\n",
    "            temp = [int(i3) for i3 in fort7[C_index].split()[2:6]]\n",
    "            temp2 = np.trim_zeros(temp)\n",
    "            temp3 = []\n",
    "        for j in temp2:\n",
    "            if df.loc[j,'el']==\"H\":\n",
    "                temp3.append(j)\n",
    "        if len(temp3)==2:\n",
    "            Ch_dict[\"Ch\"].append(C_index)\n",
    "            Ch_dict[\"H\"].append(temp3)\n",
    "    \n",
    "    randomlist = random.sample(range(len(Ch_dict['Ch'])), int(len(Ch_dict['Ch'])/24*18))\n",
    "    for i in randomlist:\n",
    "        p=random.randint(0,1) \n",
    "        H_index2change = Ch_dict[\"H\"][i][p];\n",
    "        df.loc[H_index2change,'el']='F'"
   ]
  },
  {
   "cell_type": "code",
   "execution_count": 3,
   "metadata": {},
   "outputs": [],
   "source": [
    "import random\n",
    "randomlist = random.sample(range(len(Ch_dict['Ch'])), int(len(Ch_dict['Ch'])/2*2))   # choose the percentage of Trifluoro\n",
    "for i in randomlist:\n",
    "    p=random.randint(0,1) \n",
    "    H_index2change = Ch_dict[\"H\"][i][p];\n",
    "    df.loc[H_index2change,'el']='F'"
   ]
  },
  {
   "cell_type": "raw",
   "metadata": {},
   "source": [
    "import random\n",
    "iflag=True;\n",
    "while(iflag):\n",
    "    iflag = False;\n",
    "    dstmin=100;\n",
    "    randomlist = random.sample(range(len(df_H)), int(len(df_H)/10))\n",
    "    randomlist.sort()\n",
    "    for i in range(len(randomlist)-1):\n",
    "        index_i = randomlist[i]\n",
    "        coordinate_i = np.array([df_H.iloc[index_i].x,df_H.iloc[index_i].y,df_H.iloc[index_i].z])\n",
    "        for j in range(i+1,len(randomlist)):\n",
    "            index_j = randomlist[j]\n",
    "            coordinate_j = np.array([df_H.iloc[index_j].x,df_H.iloc[index_j].y,df_H.iloc[index_j].z])\n",
    "            dist_temp = np.linalg.norm(coordinate_i-coordinate_j);\n",
    "            if dist_temp < dstmin:\n",
    "                dstmin = dist_temp;\n",
    "                break\n",
    "            else:\n",
    "                pass\n",
    "    if dstmin< 3:     ##########modify this value to make sure H are not too close to each other.\n",
    "        iflag=True;"
   ]
  },
  {
   "cell_type": "code",
   "execution_count": 5,
   "metadata": {},
   "outputs": [],
   "source": [
    "df.to_csv(base+\"/_75Trifluo.xyz\",header=None,sep=\" \",index=None)"
   ]
  },
  {
   "cell_type": "code",
   "execution_count": null,
   "metadata": {},
   "outputs": [],
   "source": []
  }
 ],
 "metadata": {
  "kernelspec": {
   "display_name": "Python 3",
   "language": "python",
   "name": "python3"
  },
  "language_info": {
   "codemirror_mode": {
    "name": "ipython",
    "version": 3
   },
   "file_extension": ".py",
   "mimetype": "text/x-python",
   "name": "python",
   "nbconvert_exporter": "python",
   "pygments_lexer": "ipython3",
   "version": "3.7.3"
  }
 },
 "nbformat": 4,
 "nbformat_minor": 2
}
